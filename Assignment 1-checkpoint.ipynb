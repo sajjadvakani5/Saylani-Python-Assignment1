{
 "cells": [
  {
   "cell_type": "code",
   "execution_count": 4,
   "metadata": {},
   "outputs": [
    {
     "name": "stdout",
     "output_type": "stream",
     "text": [
      "Twinkle twinkle little star \n",
      " How I wonder what you are \n",
      " Up above the world so high \n",
      " Like a diamond in the sky\n"
     ]
    }
   ],
   "source": [
    "#Question1\n",
    "print (\"Twinkle twinkle little star \\n How I wonder what you are \\n Up above the world so high \\n Like a diamond in the sky\")"
   ]
  },
  {
   "cell_type": "code",
   "execution_count": 26,
   "metadata": {},
   "outputs": [
    {
     "name": "stdout",
     "output_type": "stream",
     "text": [
      "Python version\n",
      "3.7.4 (default, Aug  9 2019, 18:22:51) [MSC v.1915 32 bit (Intel)]\n",
      "Version info\n",
      "sys.version_info(major=3, minor=7, micro=4, releaselevel='final', serial=0)\n"
     ]
    }
   ],
   "source": [
    "#Question2\n",
    "import sys\n",
    "print(\"Python version\")\n",
    "print(sys.version)\n",
    "print(\"Version info\")\n",
    "print(sys.version_info)"
   ]
  },
  {
   "cell_type": "code",
   "execution_count": null,
   "metadata": {},
   "outputs": [],
   "source": [
    "#Question3\n",
    "import datetime\n",
    "now= datetime.datetime.now()\n",
    "print(\"Current date and time is\")\n",
    "print(now.strftime(\"%Y-%m-%d %H:%M:%S\"))"
   ]
  },
  {
   "cell_type": "code",
   "execution_count": null,
   "metadata": {},
   "outputs": [
    {
     "name": "stdout",
     "output_type": "stream",
     "text": [
      "Write the radius of the circle \n"
     ]
    }
   ],
   "source": [
    "#Question4\n",
    "\n",
    "print (\"Write the radius of the circle \")\n",
    "radius=float(input ())\n",
    "pi=3.14\n",
    "radius2=radius**2\n",
    "area=radius2*pi\n",
    "print(\"The area of circle is\",area)"
   ]
  },
  {
   "cell_type": "code",
   "execution_count": 23,
   "metadata": {},
   "outputs": [
    {
     "name": "stdout",
     "output_type": "stream",
     "text": [
      "Write your first nameSajjad\n",
      "Write your last nameVakani\n",
      "Your name in reverse is Vakani Sajjad\n"
     ]
    }
   ],
   "source": [
    "#Question5\n",
    "first=input(\"Write your first name \")\n",
    "last=input(\"Write your last name \")\n",
    "print (\"Your name in reverse is\", last+\" \"+first)"
   ]
  },
  {
   "cell_type": "code",
   "execution_count": 25,
   "metadata": {},
   "outputs": [
    {
     "name": "stdout",
     "output_type": "stream",
     "text": [
      "Write the first number 26\n",
      "Write the second number 399\n",
      "The sum of given numbers is 425\n"
     ]
    }
   ],
   "source": [
    "#Question6\n",
    "a=int(input(\"Write the first number \"))\n",
    "b=int(input(\"Write the second number \"))\n",
    "c=a+b\n",
    "print(\"The sum of given numbers is\",c)"
   ]
  },
  {
   "cell_type": "code",
   "execution_count": null,
   "metadata": {},
   "outputs": [],
   "source": [
    "print(\"%Y\")"
   ]
  },
  {
   "cell_type": "code",
   "execution_count": null,
   "metadata": {},
   "outputs": [],
   "source": []
  }
 ],
 "metadata": {
  "kernelspec": {
   "display_name": "Python 3",
   "language": "python",
   "name": "python3"
  },
  "language_info": {
   "codemirror_mode": {
    "name": "ipython",
    "version": 3
   },
   "file_extension": ".py",
   "mimetype": "text/x-python",
   "name": "python",
   "nbconvert_exporter": "python",
   "pygments_lexer": "ipython3",
   "version": "3.7.4"
  }
 },
 "nbformat": 4,
 "nbformat_minor": 2
}
